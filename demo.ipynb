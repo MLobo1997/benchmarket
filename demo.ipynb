{
 "cells": [
  {
   "cell_type": "code",
   "execution_count": 1,
   "metadata": {},
   "outputs": [],
   "source": [
    "%load_ext autoreload\n",
    "from src.data import stocks"
   ]
  },
  {
   "cell_type": "markdown",
   "metadata": {},
   "source": [
    "# API key\n",
    "Get your free security/stocks API key in [this link](https://api.tiingo.com/account/api/token)."
   ]
  },
  {
   "cell_type": "code",
   "execution_count": 2,
   "metadata": {},
   "outputs": [],
   "source": [
    "API_KEY = \"\""
   ]
  },
  {
   "cell_type": "markdown",
   "metadata": {},
   "source": [
    "# Select the securities you want to compare\n",
    "* The baseline symbol is the ticker for the security you mostly want to compare others (the targets) with. It is designed to be some market index, in order to be able to conclude how consistently the target securities have (or not) \"beat the market\". The ITOT symbol is from an ETF that indexes stock from the whole world.\n",
    "* `minimum_nr_of_months` is the minimum number of months of data a security must have in a year so that the year is accounted for. E.g: if some fund was created in july 1997, and `minimum_nr_of_months` is 6, then the year 1997 won't be analyzed.\n",
    "* if `subtract_returns_to_baseline` is set to `True` then all the target securities yearly growths are subtracted to baseline value of the corresponding year, so that clearer insights on on yearly performance are obtained"
   ]
  },
  {
   "cell_type": "code",
   "execution_count": 8,
   "metadata": {},
   "outputs": [],
   "source": [
    "%autoreload 2\n",
    "from src.analysis import returns\n",
    "\n",
    "continuous_returns, returns_by_year, median_yearly_returns, avg_yearly_returns, beat_the_market_ratio = returns.compare_stocks(\n",
    "    baseline_symbol=\"ITOT\",\n",
    "    targets_symbols=[\n",
    "        \"SPY\",\n",
    "        \"PREFX\",  \n",
    "        \"QQQ\",\n",
    "        \"VGT\",\n",
    "    ],\n",
    "    api_key=API_KEY,\n",
    "    minimum_nr_of_months=8,\n",
    "    subtract_returns_to_baseline=True\n",
    ")\n"
   ]
  },
  {
   "cell_type": "markdown",
   "metadata": {},
   "source": [
    "# Continuous returns\n",
    "The continuous returns are computed throught only the time of data available"
   ]
  },
  {
   "cell_type": "code",
   "execution_count": 9,
   "metadata": {},
   "outputs": [
    {
     "data": {
      "text/plain": [
       "{'baseline': 3.076656392323726,\n",
       " 'targets': [('QQQ', 7.361796454274539),\n",
       "  ('VGT', 6.186002583837699),\n",
       "  ('PREFX', 4.309599591407751),\n",
       "  ('SPY', 3.020131363260466)]}"
      ]
     },
     "execution_count": 9,
     "metadata": {},
     "output_type": "execute_result"
    }
   ],
   "source": [
    "continuous_returns"
   ]
  },
  {
   "cell_type": "code",
   "execution_count": 10,
   "metadata": {},
   "outputs": [
    {
     "data": {
      "text/html": [
       "<div>\n",
       "<style scoped>\n",
       "    .dataframe tbody tr th:only-of-type {\n",
       "        vertical-align: middle;\n",
       "    }\n",
       "\n",
       "    .dataframe tbody tr th {\n",
       "        vertical-align: top;\n",
       "    }\n",
       "\n",
       "    .dataframe thead th {\n",
       "        text-align: right;\n",
       "    }\n",
       "</style>\n",
       "<table border=\"1\" class=\"dataframe\">\n",
       "  <thead>\n",
       "    <tr style=\"text-align: right;\">\n",
       "      <th></th>\n",
       "      <th>ITOT</th>\n",
       "      <th>QQQ</th>\n",
       "      <th>VGT</th>\n",
       "      <th>PREFX</th>\n",
       "      <th>SPY</th>\n",
       "    </tr>\n",
       "  </thead>\n",
       "  <tbody>\n",
       "    <tr>\n",
       "      <th>2020</th>\n",
       "      <td>0.0285272</td>\n",
       "      <td>0.245175</td>\n",
       "      <td>0.198617</td>\n",
       "      <td>0.145352</td>\n",
       "      <td>-0.00405211</td>\n",
       "    </tr>\n",
       "    <tr>\n",
       "      <th>2019</th>\n",
       "      <td>0.326818</td>\n",
       "      <td>0.0928743</td>\n",
       "      <td>0.189091</td>\n",
       "      <td>0.0418739</td>\n",
       "      <td>0.0064179</td>\n",
       "    </tr>\n",
       "    <tr>\n",
       "      <th>2018</th>\n",
       "      <td>-0.056447</td>\n",
       "      <td>0.0501804</td>\n",
       "      <td>0.0763515</td>\n",
       "      <td>0.0425129</td>\n",
       "      <td>0.00738419</td>\n",
       "    </tr>\n",
       "    <tr>\n",
       "      <th>2017</th>\n",
       "      <td>0.204165</td>\n",
       "      <td>0.113243</td>\n",
       "      <td>0.157712</td>\n",
       "      <td>0.0722189</td>\n",
       "      <td>0.00467258</td>\n",
       "    </tr>\n",
       "    <tr>\n",
       "      <th>2016</th>\n",
       "      <td>0.146367</td>\n",
       "      <td>-0.0515708</td>\n",
       "      <td>0.0125219</td>\n",
       "      <td>-0.100687</td>\n",
       "      <td>-0.00747229</td>\n",
       "    </tr>\n",
       "    <tr>\n",
       "      <th>2015</th>\n",
       "      <td>0.00265032</td>\n",
       "      <td>0.0864347</td>\n",
       "      <td>0.0422622</td>\n",
       "      <td>0.0605095</td>\n",
       "      <td>0.00575137</td>\n",
       "    </tr>\n",
       "    <tr>\n",
       "      <th>2014</th>\n",
       "      <td>0.132249</td>\n",
       "      <td>0.0651254</td>\n",
       "      <td>0.0526517</td>\n",
       "      <td>-0.0255987</td>\n",
       "      <td>0.00675079</td>\n",
       "    </tr>\n",
       "    <tr>\n",
       "      <th>2013</th>\n",
       "      <td>0.288168</td>\n",
       "      <td>0.046215</td>\n",
       "      <td>-0.00786564</td>\n",
       "      <td>0.0329283</td>\n",
       "      <td>0.0102813</td>\n",
       "    </tr>\n",
       "    <tr>\n",
       "      <th>2012</th>\n",
       "      <td>0.138362</td>\n",
       "      <td>0.0203827</td>\n",
       "      <td>-0.0199444</td>\n",
       "      <td>-0.00169805</td>\n",
       "      <td>0.00103648</td>\n",
       "    </tr>\n",
       "    <tr>\n",
       "      <th>2011</th>\n",
       "      <td>0.0059413</td>\n",
       "      <td>0.018494</td>\n",
       "      <td>-0.00927043</td>\n",
       "      <td>-0.0253387</td>\n",
       "      <td>0.0052181</td>\n",
       "    </tr>\n",
       "    <tr>\n",
       "      <th>2010</th>\n",
       "      <td>0.154556</td>\n",
       "      <td>0.029777</td>\n",
       "      <td>-0.040592</td>\n",
       "      <td>0.0399018</td>\n",
       "      <td>-0.0135024</td>\n",
       "    </tr>\n",
       "    <tr>\n",
       "      <th>2009</th>\n",
       "      <td>0.264371</td>\n",
       "      <td>0.281029</td>\n",
       "      <td>0.351654</td>\n",
       "      <td>0.105863</td>\n",
       "      <td>-0.00350482</td>\n",
       "    </tr>\n",
       "    <tr>\n",
       "      <th>2008</th>\n",
       "      <td>-0.362375</td>\n",
       "      <td>-0.0554733</td>\n",
       "      <td>-0.0720163</td>\n",
       "      <td>-0.0630634</td>\n",
       "      <td>-0.00707368</td>\n",
       "    </tr>\n",
       "    <tr>\n",
       "      <th>2007</th>\n",
       "      <td>0.0454063</td>\n",
       "      <td>0.136619</td>\n",
       "      <td>0.0911635</td>\n",
       "      <td>0.0855945</td>\n",
       "      <td>0.00129388</td>\n",
       "    </tr>\n",
       "    <tr>\n",
       "      <th>2006</th>\n",
       "      <td>0.148192</td>\n",
       "      <td>-0.0830631</td>\n",
       "      <td>-0.0644156</td>\n",
       "      <td>-0.0746371</td>\n",
       "      <td>0.00399728</td>\n",
       "    </tr>\n",
       "    <tr>\n",
       "      <th>2005</th>\n",
       "      <td>0.0499895</td>\n",
       "      <td>-0.0380743</td>\n",
       "      <td>-0.0287254</td>\n",
       "      <td>0.010048</td>\n",
       "      <td>-0.00768162</td>\n",
       "    </tr>\n",
       "    <tr>\n",
       "      <th>2004</th>\n",
       "      <td>0.0972514</td>\n",
       "      <td>-0.0139772</td>\n",
       "      <td>-0.119201</td>\n",
       "      <td>0.00704305</td>\n",
       "      <td>-0.0120677</td>\n",
       "    </tr>\n",
       "  </tbody>\n",
       "</table>\n",
       "</div>"
      ],
      "text/plain": [
       "            ITOT        QQQ         VGT       PREFX         SPY\n",
       "2020   0.0285272   0.245175    0.198617    0.145352 -0.00405211\n",
       "2019    0.326818  0.0928743    0.189091   0.0418739   0.0064179\n",
       "2018   -0.056447  0.0501804   0.0763515   0.0425129  0.00738419\n",
       "2017    0.204165   0.113243    0.157712   0.0722189  0.00467258\n",
       "2016    0.146367 -0.0515708   0.0125219   -0.100687 -0.00747229\n",
       "2015  0.00265032  0.0864347   0.0422622   0.0605095  0.00575137\n",
       "2014    0.132249  0.0651254   0.0526517  -0.0255987  0.00675079\n",
       "2013    0.288168   0.046215 -0.00786564   0.0329283   0.0102813\n",
       "2012    0.138362  0.0203827  -0.0199444 -0.00169805  0.00103648\n",
       "2011   0.0059413   0.018494 -0.00927043  -0.0253387   0.0052181\n",
       "2010    0.154556   0.029777   -0.040592   0.0399018  -0.0135024\n",
       "2009    0.264371   0.281029    0.351654    0.105863 -0.00350482\n",
       "2008   -0.362375 -0.0554733  -0.0720163  -0.0630634 -0.00707368\n",
       "2007   0.0454063   0.136619   0.0911635   0.0855945  0.00129388\n",
       "2006    0.148192 -0.0830631  -0.0644156  -0.0746371  0.00399728\n",
       "2005   0.0499895 -0.0380743  -0.0287254    0.010048 -0.00768162\n",
       "2004   0.0972514 -0.0139772   -0.119201  0.00704305  -0.0120677"
      ]
     },
     "execution_count": 10,
     "metadata": {},
     "output_type": "execute_result"
    }
   ],
   "source": [
    "returns_by_year"
   ]
  },
  {
   "cell_type": "code",
   "execution_count": 11,
   "metadata": {},
   "outputs": [
    {
     "data": {
      "text/plain": [
       "[('QQQ', 0.05549356348395734),\n",
       " ('VGT', 0.04764677966302673),\n",
       " ('PREFX', 0.020754305059020928),\n",
       " ('SPY', -0.00015004256161888022)]"
      ]
     },
     "execution_count": 11,
     "metadata": {},
     "output_type": "execute_result"
    }
   ],
   "source": [
    "avg_yearly_returns"
   ]
  },
  {
   "cell_type": "code",
   "execution_count": 12,
   "metadata": {},
   "outputs": [
    {
     "data": {
      "text/plain": [
       "[('QQQ', 0.046215010426060465),\n",
       " ('PREFX', 0.03292825606759314),\n",
       " ('VGT', 0.012521879430894084),\n",
       " ('SPY', 0.001293878091998435)]"
      ]
     },
     "execution_count": 12,
     "metadata": {},
     "output_type": "execute_result"
    }
   ],
   "source": [
    "median_yearly_returns"
   ]
  }
 ],
 "metadata": {
  "kernelspec": {
   "display_name": "Python 3",
   "language": "python",
   "name": "python3"
  },
  "language_info": {
   "codemirror_mode": {
    "name": "ipython",
    "version": 3
   },
   "file_extension": ".py",
   "mimetype": "text/x-python",
   "name": "python",
   "nbconvert_exporter": "python",
   "pygments_lexer": "ipython3",
   "version": "3.8.1"
  }
 },
 "nbformat": 4,
 "nbformat_minor": 4
}
